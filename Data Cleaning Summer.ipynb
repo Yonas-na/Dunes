{
 "cells": [
  {
   "cell_type": "markdown",
   "id": "936206a3-c6fd-4965-961c-de80310adb3e",
   "metadata": {},
   "source": [
    "**If you have 28 rows with .xls format not .xlsx**"
   ]
  },
  {
   "cell_type": "markdown",
   "id": "70f7f355-45b8-46d2-904b-9a6f013dfc19",
   "metadata": {},
   "source": [
    "And the files with .xls format have 28 rows that contian similar information. On top of that the file type is changed to .xlsx format for consistency with other file types"
   ]
  },
  {
   "cell_type": "code",
   "execution_count": 139,
   "id": "f94d30ec-dd1e-4f53-87db-5db724c1b102",
   "metadata": {},
   "outputs": [
    {
     "name": "stdout",
     "output_type": "stream",
     "text": [
      "Converted D:\\IHE\\Thesis\\Temperature\\metingen zomer 2023 kopie\\Wimmenum L18 & L19\\L18 Lente 2023 (5).xls to D:\\IHE\\Thesis\\Temperature\\metingen zomer 2023 kopie\\Wimmenum L18 & L19\\L18 Lente 2023 (5).xlsx\n",
      "Converted D:\\IHE\\Thesis\\Temperature\\metingen zomer 2023 kopie\\Wimmenum L18 & L19\\L18 Zomer 2023 (1).xls to D:\\IHE\\Thesis\\Temperature\\metingen zomer 2023 kopie\\Wimmenum L18 & L19\\L18 Zomer 2023 (1).xlsx\n",
      "Converted D:\\IHE\\Thesis\\Temperature\\metingen zomer 2023 kopie\\Wimmenum L18 & L19\\L18 Zomer 2023 (2).xls to D:\\IHE\\Thesis\\Temperature\\metingen zomer 2023 kopie\\Wimmenum L18 & L19\\L18 Zomer 2023 (2).xlsx\n",
      "Converted D:\\IHE\\Thesis\\Temperature\\metingen zomer 2023 kopie\\Wimmenum L18 & L19\\L18 Zomer 2023 (3).xls to D:\\IHE\\Thesis\\Temperature\\metingen zomer 2023 kopie\\Wimmenum L18 & L19\\L18 Zomer 2023 (3).xlsx\n",
      "Converted D:\\IHE\\Thesis\\Temperature\\metingen zomer 2023 kopie\\Wimmenum L18 & L19\\L18 Zomer 2023 (4).xls to D:\\IHE\\Thesis\\Temperature\\metingen zomer 2023 kopie\\Wimmenum L18 & L19\\L18 Zomer 2023 (4).xlsx\n"
     ]
    }
   ],
   "source": [
    "import glob\n",
    "import pandas as pd\n",
    "import xlrd\n",
    "from openpyxl import Workbook\n",
    "\n",
    "# Directory path where the Excel files are located\n",
    "directory = r\"D:\\IHE\\Thesis\\Temperature\\metingen zomer 2023 kopie\\Wimmenum L18 & L19\" # Replace with the actual directory path\n",
    "\n",
    "# Get the list of Excel file paths in the directory\n",
    "file_paths = glob.glob(directory + '/*.xls')  # Modify the file extension if needed\n",
    "\n",
    "# Iterate over each file path\n",
    "for file_path in file_paths:\n",
    "    # Read the .xls file using xlrd\n",
    "    xls_workbook = xlrd.open_workbook(file_path)\n",
    "    \n",
    "    # Create a new .xlsx file\n",
    "    xlsx_file_path = file_path.replace('.xls', '.xlsx')\n",
    "    xlsx_workbook = Workbook()\n",
    "\n",
    "    # Iterate through sheets in the .xls workbook\n",
    "    for sheet_index in range(xls_workbook.nsheets):\n",
    "        xls_sheet = xls_workbook.sheet_by_index(sheet_index)\n",
    "        xlsx_sheet = xlsx_workbook.active if sheet_index == 0 else xlsx_workbook.create_sheet()\n",
    "\n",
    "        # Copy data from .xls sheet to .xlsx sheet\n",
    "        for row_index in range(xls_sheet.nrows):\n",
    "            row_data = xls_sheet.row_values(row_index)\n",
    "            xlsx_sheet.append(row_data)\n",
    "\n",
    "    # Save the .xlsx workbook\n",
    "    xlsx_workbook.save(xlsx_file_path)\n",
    "\n",
    "    print(f\"Converted {file_path} to {xlsx_file_path}\")\n",
    "    \n",
    "# Get the list of Excel file paths in the directory\n",
    "file_paths = glob.glob(directory + '/*.xlsx')  # Modify the file extension if needed\n",
    "\n",
    "# Iterate over each file path\n",
    "for file_path in file_paths:\n",
    "    # Read the Excel file into a DataFrame, skipping the first 21 rows and excluding the header row\n",
    "    df = pd.read_excel(file_path, skiprows=28, header=None)\n",
    "    \n",
    "    # Save the modified DataFrame back to the Excel file, excluding the header row\n",
    "    df.to_excel(file_path, index=False, header=False)\n"
   ]
  },
  {
   "cell_type": "markdown",
   "id": "0081a80b-3554-48ec-984b-2703258ee514",
   "metadata": {},
   "source": [
    "**Combine excel files in a directory**\n",
    "\n",
    "Make sure in the raw files the temperature data is stored as number format, as sometimes it is stored as text. This will mess the order of dates in the combined file. **But also change the column name of the converted file (from .xls to match with the .xlsx) by copying the column name that containes the temperature values from the .xlsx file and paste in the converted file (This is only if you get two types of data for one slack, if both of them are .xls renaming is not needed)** "
   ]
  },
  {
   "cell_type": "code",
   "execution_count": 140,
   "id": "99467f5c-9337-4a54-ac30-70d7bdea66e9",
   "metadata": {},
   "outputs": [],
   "source": [
    "import pandas as pd\n",
    "import os\n",
    "\n",
    "# Specify the directory path containing the files\n",
    "directory_path = r\"D:\\IHE\\Thesis\\Temperature\\metingen zomer 2023 kopie\\Wimmenum L18 & L19\"\n",
    "directory_path2 = r\"D:\\IHE\\Thesis\\Temperature\\metingen zomer 2023 kopie\\Wimmenum L18 & L19\\Output\"\n",
    "# Get a list of all Excel files in the directory\n",
    "file_list = [file for file in os.listdir(directory_path) if file.endswith(\".xlsx\")]\n",
    "\n",
    "# Initialize an empty list to store DataFrames\n",
    "dfs = []\n",
    "\n",
    "# Loop through each file and read it into a DataFrame\n",
    "for file in file_list:\n",
    "    file_path = os.path.join(directory_path, file)\n",
    "    df = pd.read_excel(file_path)\n",
    "    dfs.append(df)\n",
    "\n",
    "# Concatenate all DataFrames in the list\n",
    "combined_df = pd.concat(dfs, ignore_index=True)\n",
    "\n",
    "# Save the combined DataFrame to a new Excel file\n",
    "output_file = os.path.join(directory_path2, \"Combined_Wimm.xlsx\")\n",
    "combined_df.to_excel(output_file, index=False)\n"
   ]
  },
  {
   "cell_type": "markdown",
   "id": "88788500-6e50-4868-a382-2d77867e7198",
   "metadata": {},
   "source": [
    "**Extract night time temperature**"
   ]
  },
  {
   "cell_type": "code",
   "execution_count": 141,
   "id": "6d23a17e-cc6a-4367-b91e-ee5ae8bcda4b",
   "metadata": {},
   "outputs": [
    {
     "name": "stdout",
     "output_type": "stream",
     "text": [
      "        No.                Time  Temperature°C  Humidity%\n",
      "37       38 2023-06-02 20:03:15           17.0        NaN\n",
      "38       39 2023-06-02 20:08:15           16.0        NaN\n",
      "39       40 2023-06-02 20:13:15           15.4        NaN\n",
      "40       41 2023-06-02 20:18:15           15.0        NaN\n",
      "41       42 2023-06-02 20:23:15           14.7        NaN\n",
      "...     ...                 ...            ...        ...\n",
      "25209  3877 2023-08-29 05:35:58           12.6        NaN\n",
      "25210  3878 2023-08-29 05:40:58           12.5        NaN\n",
      "25211  3879 2023-08-29 05:45:58           12.5        NaN\n",
      "25212  3880 2023-08-29 05:50:58           12.4        NaN\n",
      "25213  3881 2023-08-29 05:55:58           12.4        NaN\n",
      "\n",
      "[10560 rows x 4 columns]\n"
     ]
    }
   ],
   "source": [
    "import pandas as pd\n",
    "\n",
    "# Read the Excel file into a DataFrame\n",
    "df = pd.read_excel(\"D:\\IHE\\Thesis\\Temperature\\metingen zomer 2023 kopie\\Wimmenum L18 & L19\\Output\\Combined_Wimm.xlsx\")\n",
    "\n",
    "# Convert 'Time' column to datetime type\n",
    "df['Time'] = pd.to_datetime(df['Time'], format='%Y-%m-%d %H:%M:%S')\n",
    "\n",
    "# Define the desired time range\n",
    "start_time = pd.to_datetime('20:00:00', format='%H:%M:%S').time()\n",
    "end_time = pd.to_datetime('06:00:00', format='%H:%M:%S').time()\n",
    "\n",
    "# Filter the DataFrame based on the date and time range\n",
    "filtered_df = df[\n",
    "    (df['Time'].dt.time >= start_time) | (df['Time'].dt.time <= end_time)\n",
    "]\n",
    "\n",
    "# Print the filtered DataFrame\n",
    "print(filtered_df)\n"
   ]
  },
  {
   "cell_type": "code",
   "execution_count": 142,
   "id": "aaec51ad-7ded-46d7-bf32-c71cb99fe23d",
   "metadata": {},
   "outputs": [],
   "source": [
    "filtered_df.to_excel(r\"D:\\IHE\\Thesis\\Temperature\\metingen zomer 2023 kopie\\Wimmenum L18 & L19\\Output\\Noctural_Wimm.xlsx\", index=False)\n"
   ]
  },
  {
   "cell_type": "code",
   "execution_count": null,
   "id": "9f9198c3-c466-47b6-8f8a-dfa69c4fb766",
   "metadata": {},
   "outputs": [],
   "source": []
  }
 ],
 "metadata": {
  "kernelspec": {
   "display_name": "Python 3 (ipykernel)",
   "language": "python",
   "name": "python3"
  },
  "language_info": {
   "codemirror_mode": {
    "name": "ipython",
    "version": 3
   },
   "file_extension": ".py",
   "mimetype": "text/x-python",
   "name": "python",
   "nbconvert_exporter": "python",
   "pygments_lexer": "ipython3",
   "version": "3.9.16"
  }
 },
 "nbformat": 4,
 "nbformat_minor": 5
}
